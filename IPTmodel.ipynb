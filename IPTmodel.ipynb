{
 "cells": [
  {
   "cell_type": "code",
   "execution_count": 1,
   "metadata": {},
   "outputs": [],
   "source": [
    "import os\n",
    "import cv2\n",
    "import time\n",
    "import copy\n",
    "import numpy as np\n",
    "import pandas as pd\n",
    "import matplotlib.pyplot as plt\n",
    "import albumentations as A\n",
    "from PIL import Image\n",
    "from tqdm.notebook import tqdm\n",
    "import torch\n",
    "from torch import nn\n",
    "import torch.nn.functional as F\n",
    "from torch.utils.data import DataLoader, Dataset, random_split\n",
    "from torchvision import transforms as T\n",
    "from torchvision.datasets import MNIST\n",
    "from torchsummary import summary\n",
    "import pytorch_lightning as pl\n",
    "from pytorch_lightning.loggers import TensorBoardLogger\n",
    "from datasets import load_metric\n",
    "from transformers import SegformerImageProcessor, BertModel, BertConfig\n",
    "from sklearn.model_selection import train_test_split\n",
    "import segmentation_models_pytorch as smp\n",
    "device = torch.device(\"cuda\" if torch.cuda.is_available() else \"cpu\")\n",
    "PATH_DATASETS = '/home/morten/Documents/Algorithms-for-Automated-Driving/code/solutions/lane_detection/data_lane_segmentation/'"
   ]
  },
  {
   "cell_type": "code",
   "execution_count": 2,
   "metadata": {},
   "outputs": [
    {
     "name": "stdout",
     "output_type": "stream",
     "text": [
      "Class Names:  ['background', 'left', 'right']\n",
      "Class RGB values:  [[0, 0, 0], [1, 1, 1], [2, 2, 2]]\n"
     ]
    }
   ],
   "source": [
    "class_names = ['background', 'left', 'right']\n",
    "\n",
    "class_rgb_values = [[0,0,0], [1,1,1], [2,2,2]]\n",
    "\n",
    "print('Class Names: ', class_names)\n",
    "print('Class RGB values: ', class_rgb_values)"
   ]
  },
  {
   "cell_type": "code",
   "execution_count": 3,
   "metadata": {},
   "outputs": [
    {
     "name": "stdout",
     "output_type": "stream",
     "text": [
      "Selected classes and their corresponding RGB values in labels:\n",
      "Class Names:  ['background', 'left', 'right']\n",
      "Class RGB values:  [[0, 0, 0], [1, 1, 1], [2, 2, 2]]\n"
     ]
    }
   ],
   "source": [
    "# Useful to shortlist specific classes in datasets with large number of classes\n",
    "select_classes = ['background', 'left', 'right']\n",
    "\n",
    "# Get RGB values of required classes\n",
    "select_class_indices = [class_names.index(cls.lower()) for cls in select_classes]\n",
    "select_class_rgb_values =  np.array(class_rgb_values)[select_class_indices]\n",
    "\n",
    "print('Selected classes and their corresponding RGB values in labels:')\n",
    "print('Class Names: ', class_names)\n",
    "print('Class RGB values: ', class_rgb_values)"
   ]
  },
  {
   "cell_type": "code",
   "execution_count": 4,
   "metadata": {},
   "outputs": [],
   "source": [
    "# Visualize from dataloader or prediction\n",
    "def visualize_tensor(tensor_input, gray = False):\n",
    "    if gray == False:\n",
    "        img = tensor_input[0,:,:,:]\n",
    "        img = img.detach().cpu().numpy()\n",
    "\n",
    "        img = np.transpose(img, (1,2,0))\n",
    "        img = img/np.amax(img)\n",
    "        img = np.clip(img, 0, 1)\n",
    "        \n",
    "        plt.imshow(img)\n",
    "        plt.show()\n",
    "    elif gray == True:\n",
    "        img = tensor_input[0,0,:,:]\n",
    "        img = img.detach().cpu().numpy()\n",
    "\n",
    "        plt.imshow(img, cmap='gray')\n",
    "        plt.show()\n",
    "\n",
    "\n",
    "\n",
    "# Perform one hot encoding on label\n",
    "def one_hot_encode(label, label_values):\n",
    "    \"\"\"\n",
    "    Convert a segmentation image label array to one-hot format\n",
    "    by replacing each pixel value with a vector of length num_classes\n",
    "    # Arguments\n",
    "        label: The 2D array segmentation image label\n",
    "        label_values\n",
    "        \n",
    "    # Returns\n",
    "        A 2D array with the same width and hieght as the input, but\n",
    "        with a depth size of num_classes\n",
    "    \"\"\"\n",
    "    semantic_map = []\n",
    "    for colour in label_values:\n",
    "        equality = np.equal(label, colour)\n",
    "        class_map = np.all(equality, axis = -1)\n",
    "        semantic_map.append(class_map)\n",
    "    semantic_map = np.stack(semantic_map, axis=-1)\n",
    "\n",
    "    return semantic_map\n",
    "    \n",
    "# Perform reverse one-hot-encoding on labels / preds\n",
    "def reverse_one_hot(image):\n",
    "    \"\"\"\n",
    "    Transform a 2D array in one-hot format (depth is num_classes),\n",
    "    to a 2D array with only 1 channel, where each pixel value is\n",
    "    the classified class key.\n",
    "    # Arguments\n",
    "        image: The one-hot format image \n",
    "        \n",
    "    # Returns\n",
    "        A 2D array with the same width and hieght as the input, but\n",
    "        with a depth size of 1, where each pixel value is the classified \n",
    "        class key.\n",
    "    \"\"\"\n",
    "    x = np.argmax(image, axis = -1)\n",
    "    return x\n",
    "\n",
    "# Perform colour coding on the reverse-one-hot outputs\n",
    "def colour_code_segmentation(image, label_values):\n",
    "    \"\"\"\n",
    "    Given a 1-channel array of class keys, colour code the segmentation results.\n",
    "    # Arguments\n",
    "        image: single channel array where each value represents the class key.\n",
    "        label_values\n",
    "\n",
    "    # Returns\n",
    "        Colour coded image for segmentation visualization\n",
    "    \"\"\"\n",
    "    colour_codes = np.array(label_values)\n",
    "    x = colour_codes[image.astype(int)]\n",
    "\n",
    "    return x"
   ]
  },
  {
   "cell_type": "code",
   "execution_count": 5,
   "metadata": {},
   "outputs": [],
   "source": [
    "class LaneSegmentDataset(Dataset):\n",
    "    def __init__(self, img_dir, label_dir, list_of_filenames, class_rgb_values=None):\n",
    "        super().__init__()\n",
    "        self.img_dir = img_dir\n",
    "        self.label_dir = label_dir\n",
    "        self.list_of_filenames = list_of_filenames\n",
    "        self.class_rgb_values = class_rgb_values\n",
    "\n",
    "\n",
    "    def __len__(self):\n",
    "        return len(self.list_of_filenames)\n",
    "\n",
    "    def __getitem__(self, idx):\n",
    "        img = cv2.cvtColor(cv2.imread(self.img_dir + self.list_of_filenames[idx] + '.png'), cv2.COLOR_BGR2RGB)\n",
    "        label = cv2.cvtColor(cv2.imread(self.label_dir + self.list_of_filenames[idx] + '_label.png', cv2.IMREAD_GRAYSCALE), cv2.COLOR_GRAY2RGB)\n",
    "\n",
    "        # one-hot-encode the mask\n",
    "        label = one_hot_encode(label, self.class_rgb_values).astype(float)\n",
    "\n",
    "        img = torch.from_numpy(img).float()\n",
    "        label = torch.from_numpy(label).float()\n",
    "\n",
    "        img = torch.permute(img, (2,0,1))\n",
    "        label = torch.permute(label, (2,0,1))\n",
    "\n",
    "\n",
    "        return img, label"
   ]
  },
  {
   "cell_type": "code",
   "execution_count": 6,
   "metadata": {},
   "outputs": [],
   "source": [
    "img_dir = PATH_DATASETS + 'train/'\n",
    "label_dir = PATH_DATASETS + 'train_label/'\n",
    "\n",
    "name_fit = []\n",
    "for dirname, _, filenames_fit in os.walk(img_dir):\n",
    "    for filename_fit in filenames_fit:\n",
    "        name_fit.append(filename_fit.split('.')[0])\n",
    "img_fit = pd.DataFrame({'id': name_fit}, index = np.arange(0, len(name_fit)))\n",
    "lane_train_path, lane_val_path = train_test_split(img_fit['id'].values, test_size=0.2, train_size=0.8, random_state=10)\n",
    "\n",
    "lane_train_dataset = LaneSegmentDataset(img_dir, label_dir, lane_train_path, class_rgb_values)\n",
    "lane_val_dataset = LaneSegmentDataset(img_dir, label_dir, lane_val_path, class_rgb_values)\n",
    "\n",
    "\n",
    "test_img_dir = PATH_DATASETS + 'val/'\n",
    "test_label_dir = PATH_DATASETS + 'val_label/'\n",
    "\n",
    "name_test = []\n",
    "for dirname, _, filenames_test in os.walk(test_img_dir):\n",
    "    for filename_test in filenames_test:\n",
    "        name_test.append(filename_test.split('.')[0])\n",
    "img_test = pd.DataFrame({'id': name_test}, index =np.arange(0, len(name_test)))\n",
    "lane_temp, lane_test = train_test_split(img_test['id'].values, test_size=128, train_size=1, random_state=10)\n",
    "\n",
    "lane_test_dataset = LaneSegmentDataset(test_img_dir, test_label_dir, lane_test, class_rgb_values)\n",
    "\n",
    "batch_size = 4\n",
    "num_workers = 8\n",
    "\n",
    "train_dataloader = DataLoader(lane_train_dataset, batch_size=batch_size, num_workers=num_workers)\n",
    "val_dataloader = DataLoader(lane_val_dataset, batch_size=batch_size, num_workers=num_workers)\n",
    "test_dataloader = DataLoader(lane_test_dataset, batch_size=batch_size, num_workers=num_workers)\n"
   ]
  },
  {
   "cell_type": "code",
   "execution_count": 7,
   "metadata": {},
   "outputs": [
    {
     "name": "stdout",
     "output_type": "stream",
     "text": [
      "torch.Size([4, 3, 512, 1024]) torch.Size([4, 3, 512, 1024])\n",
      "(3, 512, 1024)\n"
     ]
    },
    {
     "data": {
      "image/png": "[encoded data removed]",
      "text/plain": [
       "<Figure size 640x480 with 1 Axes>"
      ]
     },
     "metadata": {},
     "output_type": "display_data"
    }
   ],
   "source": [
    "for step, (x,y) in enumerate(train_dataloader):\n",
    "    if step < 1:\n",
    "        print(x.shape, y.shape)\n",
    "        img = x[0,:,:,:]\n",
    "        img = img.detach().cpu().numpy().astype(int)\n",
    "        img = np.transpose(img, (1,2,0))\n",
    "        label = y[0,:,:,:]\n",
    "        label = label.detach().cpu().numpy().astype(int)\n",
    "        print(label.shape)\n",
    "        # np.transpose(label, (1,2,0))\n",
    "        plt.imshow(label[2])\n",
    "    else:\n",
    "        break"
   ]
  },
  {
   "cell_type": "code",
   "execution_count": 8,
   "metadata": {},
   "outputs": [],
   "source": [
    "class LaneSegmentDataModule(pl.LightningDataModule):\n",
    "\n",
    "    def __init__(self, dataset, dataset_val=None, batch_size: int=2):\n",
    "        super().__init__()\n",
    "        self.batch_size = batch_size\n",
    "        self.dataset = dataset\n",
    "        self.dataset_val = dataset_val\n",
    "\n",
    "    def prepare_data(self):\n",
    "        pass\n",
    "\n",
    "    def setup(self, stage: str):\n",
    "        if stage == 'fit':\n",
    "            self.dataset = self.dataset\n",
    "            self.dataset_val = self.dataset_val\n",
    "\n",
    "        if stage == 'test':\n",
    "            self.dataset = self.dataset\n",
    "\n",
    "    def train_dataloader(self):\n",
    "        return DataLoader(self.dataset, batch_size=self.batch_size)\n",
    "    \n",
    "    def val_dataloader(self):\n",
    "        return DataLoader(self.dataset_val, batch_size=self.batch_size)\n",
    "    \n",
    "    def test_dataloader(self):\n",
    "        return DataLoader(self.dataset, batch_size=self.batch_size)"
   ]
  },
  {
   "cell_type": "code",
   "execution_count": 9,
   "metadata": {},
   "outputs": [],
   "source": [
    "data = LaneSegmentDataModule(PATH_DATASETS)\n",
    "data.prepare_data()\n",
    "data.setup('fit')"
   ]
  },
  {
   "cell_type": "code",
   "execution_count": 10,
   "metadata": {},
   "outputs": [],
   "source": [
    "class LitModel(pl.LightningModule):\n",
    "    def __init__(self):\n",
    "        super().__init__()\n",
    "        self.unet = smp.Unet(encoder_name='resnet18', classes=3, encoder_weights=None, in_channels=3, decoder_channels=(256, 128, 64, 32, 3))\n",
    "\n",
    "    def forward(self, x):\n",
    "        embedding = self.unet(x)\n",
    "        return embedding\n",
    "\n",
    "    def training_step(self, train_batch, batch_idx):\n",
    "        x, y = train_batch\n",
    "        logits = self(x)\n",
    "        # y=y.long()\n",
    "        loss = F.cross_entropy(logits, y)\n",
    "        self.log('train_loss', loss)\n",
    "        return loss\n",
    "    \n",
    "    def validation_step(self, val_batch, batch_idx):\n",
    "        x, y = val_batch\n",
    "        logits = self(x)\n",
    "        # y=y.long()\n",
    "        loss = F.cross_entropy(logits, y)\n",
    "        self.log('val_loss', loss)\n",
    "        return loss\n",
    "\n",
    "    def configure_optimizers(self):\n",
    "        optimizer = torch.optim.Adam(self.parameters(), lr=1e-3)\n",
    "        return optimizer\n",
    "\n",
    "    def predict_step(self, batch):\n",
    "        return self(batch)\n",
    "\n",
    "torch.cuda.empty_cache()"
   ]
  },
  {
   "cell_type": "code",
   "execution_count": 11,
   "metadata": {},
   "outputs": [
    {
     "name": "stderr",
     "output_type": "stream",
     "text": [
      "GPU available: True (cuda), used: True\n",
      "TPU available: False, using: 0 TPU cores\n",
      "IPU available: False, using: 0 IPUs\n",
      "HPU available: False, using: 0 HPUs\n",
      "LOCAL_RANK: 0 - CUDA_VISIBLE_DEVICES: [0]\n",
      "\n",
      "  | Name | Type | Params\n",
      "------------------------------\n",
      "0 | unet | Unet | 14.3 M\n",
      "------------------------------\n",
      "14.3 M    Trainable params\n",
      "0         Non-trainable params\n",
      "14.3 M    Total params\n",
      "57.289    Total estimated model params size (MB)\n"
     ]
    },
    {
     "data": {
      "application/vnd.jupyter.widget-view+json": {
       "model_id": "38af930d54fc4728abe33d7c86675947",
       "version_major": 2,
       "version_minor": 0
      },
      "text/plain": [
       "Sanity Checking: 0it [00:00, ?it/s]"
      ]
     },
     "metadata": {},
     "output_type": "display_data"
    },
    {
     "data": {
      "application/vnd.jupyter.widget-view+json": {
       "model_id": "53022aad67d14c1e96407f3109f4d154",
       "version_major": 2,
       "version_minor": 0
      },
      "text/plain": [
       "Training: 0it [00:00, ?it/s]"
      ]
     },
     "metadata": {},
     "output_type": "display_data"
    },
    {
     "name": "stderr",
     "output_type": "stream",
     "text": [
      "/home/morten/mambaforge-pypy3/envs/AI/lib/python3.8/site-packages/pytorch_lightning/trainer/call.py:54: UserWarning: Detected KeyboardInterrupt, attempting graceful shutdown...\n",
      "  rank_zero_warn(\"Detected KeyboardInterrupt, attempting graceful shutdown...\")\n"
     ]
    }
   ],
   "source": [
    "torch.cuda.empty_cache()\n",
    "model = LitModel()\n",
    "\n",
    "logger = TensorBoardLogger('tb_logs_lane', name='IPTmodel')\n",
    "\n",
    "trainer = pl.Trainer(accelerator='gpu',max_epochs=10, logger=logger)\n",
    "trainer.fit(model, train_dataloaders=train_dataloader, val_dataloaders=val_dataloader)"
   ]
  },
  {
   "cell_type": "code",
   "execution_count": null,
   "metadata": {},
   "outputs": [
    {
     "data": {
      "text/plain": [
       "ERROR: Failed to launch TensorBoard (exited with 1).\n",
       "Contents of stderr:\n",
       "TensorFlow installation not found - running with reduced feature set.\n",
       "/home/morten/mambaforge-pypy3/envs/AI/lib/python3.8/site-packages/tensorboard_data_server/bin/server: /lib/x86_64-linux-gnu/libc.so.6: version `GLIBC_2.33' not found (required by /home/morten/mambaforge-pypy3/envs/AI/lib/python3.8/site-packages/tensorboard_data_server/bin/server)\n",
       "/home/morten/mambaforge-pypy3/envs/AI/lib/python3.8/site-packages/tensorboard_data_server/bin/server: /lib/x86_64-linux-gnu/libc.so.6: version `GLIBC_2.34' not found (required by /home/morten/mambaforge-pypy3/envs/AI/lib/python3.8/site-packages/tensorboard_data_server/bin/server)\n",
       "/home/morten/mambaforge-pypy3/envs/AI/lib/python3.8/site-packages/tensorboard_data_server/bin/server: /lib/x86_64-linux-gnu/libc.so.6: version `GLIBC_2.32' not found (required by /home/morten/mambaforge-pypy3/envs/AI/lib/python3.8/site-packages/tensorboard_data_server/bin/server)\n",
       "Address already in use\n",
       "Port 6006 is in use by another program. Either identify and stop that program, or start the server with a different port."
      ]
     },
     "metadata": {},
     "output_type": "display_data"
    }
   ],
   "source": [
    "%reload_ext tensorboard\n",
    "%tensorboard --logdir=tb_logs_lane/"
   ]
  },
  {
   "cell_type": "code",
   "execution_count": 13,
   "metadata": {},
   "outputs": [
    {
     "name": "stdout",
     "output_type": "stream",
     "text": [
      "torch.Size([4, 3, 512, 1024]) torch.Size([4, 3, 512, 1024])\n",
      "(3, 512, 1024)\n"
     ]
    },
    {
     "data": {
      "image/png": "[encoded data removed]",
      "text/plain": [
       "<Figure size 640x480 with 1 Axes>"
      ]
     },
     "metadata": {},
     "output_type": "display_data"
    },
    {
     "data": {
      "image/png": "[encoded data removed]",
      "text/plain": [
       "<Figure size 640x480 with 1 Axes>"
      ]
     },
     "metadata": {},
     "output_type": "display_data"
    }
   ],
   "source": [
    "model_from_checkpoint = LitModel.load_from_checkpoint('tb_logs_lane/IPTmodel/version_14/checkpoints/epoch=9-step=6150.ckpt')\n",
    "model_from_checkpoint.eval()\n",
    "for i, batch in enumerate(test_dataloader):\n",
    "    if i<1:\n",
    "        x, y = batch\n",
    "        \n",
    "        print(x.shape, y.shape)\n",
    "        img = x[0,:,:,:]\n",
    "        img = img.detach().cpu().numpy().astype(int)\n",
    "        img = np.transpose(img, (1,2,0))\n",
    "        label = y[0,:,:,:]\n",
    "        label = label.detach().cpu().numpy().astype(int)\n",
    "        print(label.shape)\n",
    "        # np.transpose(label, (1,2,0))\n",
    "        plt.imshow(label[0,:,:], cmap='gray')\n",
    "        plt.show()\n",
    "\n",
    "        logit = model_from_checkpoint(x)\n",
    "\n",
    "        visualize_tensor(logit, True)\n",
    "\n",
    "\n",
    "    else:\n",
    "        break\n"
   ]
  }
 ],
 "metadata": {
  "kernelspec": {
   "display_name": "AI",
   "language": "python",
   "name": "python3"
  },
  "language_info": {
   "codemirror_mode": {
    "name": "ipython",
    "version": 3
   },
   "file_extension": ".py",
   "mimetype": "text/x-python",
   "name": "python",
   "nbconvert_exporter": "python",
   "pygments_lexer": "ipython3",
   "version": "3.8.16"
  },
  "orig_nbformat": 4,
  "vscode": {
   "interpreter": {
    "hash": "a71f2f662bcb6f5889d2d37eee9ea51da62f6b07888de81c11f0a768a5b32622"
   }
  }
 },
 "nbformat": 4,
 "nbformat_minor": 2
}
